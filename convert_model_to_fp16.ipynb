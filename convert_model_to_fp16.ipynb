{
  "nbformat": 4,
  "nbformat_minor": 0,
  "metadata": {
    "colab": {
      "name": "convert_model_to_fp16.ipynb",
      "provenance": [],
      "collapsed_sections": []
    },
    "kernelspec": {
      "name": "python3",
      "display_name": "Python 3"
    }
  },
  "cells": [
    {
      "cell_type": "code",
      "metadata": {
        "id": "JVvwafna4nAN",
        "colab": {
          "base_uri": "https://localhost:8080/"
        },
        "outputId": "2f023bbc-2a08-4f68-96d9-f92740bac177"
      },
      "source": [
        "### step 1 : install open-library: fire\n",
        "\n",
        "!pip install fire"
      ],
      "execution_count": null,
      "outputs": [
        {
          "output_type": "stream",
          "text": [
            "Collecting fire\n",
            "\u001b[?25l  Downloading https://files.pythonhosted.org/packages/11/07/a119a1aa04d37bc819940d95ed7e135a7dcca1c098123a3764a6dcace9e7/fire-0.4.0.tar.gz (87kB)\n",
            "\r\u001b[K     |███▊                            | 10kB 17.0MB/s eta 0:00:01\r\u001b[K     |███████▌                        | 20kB 22.6MB/s eta 0:00:01\r\u001b[K     |███████████▏                    | 30kB 15.3MB/s eta 0:00:01\r\u001b[K     |███████████████                 | 40kB 14.0MB/s eta 0:00:01\r\u001b[K     |██████████████████▊             | 51kB 8.0MB/s eta 0:00:01\r\u001b[K     |██████████████████████▍         | 61kB 7.5MB/s eta 0:00:01\r\u001b[K     |██████████████████████████▏     | 71kB 8.4MB/s eta 0:00:01\r\u001b[K     |██████████████████████████████  | 81kB 8.8MB/s eta 0:00:01\r\u001b[K     |████████████████████████████████| 92kB 5.3MB/s \n",
            "\u001b[?25hRequirement already satisfied: six in /usr/local/lib/python3.7/dist-packages (from fire) (1.15.0)\n",
            "Requirement already satisfied: termcolor in /usr/local/lib/python3.7/dist-packages (from fire) (1.1.0)\n",
            "Building wheels for collected packages: fire\n",
            "  Building wheel for fire (setup.py) ... \u001b[?25l\u001b[?25hdone\n",
            "  Created wheel for fire: filename=fire-0.4.0-py2.py3-none-any.whl size=115928 sha256=e1634fd406defea4efa8e6c2c5eb5c3ddb8dfa1c2828a7be250f049089168e51\n",
            "  Stored in directory: /root/.cache/pip/wheels/af/19/30/1ea0cad502dcb4e66ed5a690279628c827aea38bbbab75d5ed\n",
            "Successfully built fire\n",
            "Installing collected packages: fire\n",
            "Successfully installed fire-0.4.0\n"
          ],
          "name": "stdout"
        }
      ]
    },
    {
      "cell_type": "code",
      "metadata": {
        "id": "Q8ktylXl5drH"
      },
      "source": [
        "### step 2 : import open-library\n",
        "\n",
        "from typing import Union\n",
        "import os\n",
        "import fire\n",
        "import torch\n",
        "from tqdm import tqdm\n",
        "from pathlib import Path\n",
        "\n",
        "from google.colab import files, drive\n",
        "!mkdir -p drive\n",
        "drive.mount('/content/gdrive')"
      ],
      "execution_count": null,
      "outputs": []
    },
    {
      "cell_type": "code",
      "metadata": {
        "id": "pryGk4Zw41LI"
      },
      "source": [
        "### step 3 : define folder path\n",
        "\n",
        "master_holder='/content/gdrive/My Drive/ETNET/NER/news/code/PeijiYang'#\n",
        "\n",
        "checkpoints_dir=os.path.join(master_holder,'checkpoints_bert/previous/pytorch_model.bin')\n",
        "\n",
        "fp16_dir=os.path.join(master_holder,'checkpoints_bert/previous/pytorch_model_fp16.bin')\n"
      ],
      "execution_count": null,
      "outputs": []
    },
    {
      "cell_type": "markdown",
      "metadata": {
        "id": "gT9w2XYPH7kb"
      },
      "source": [
        ""
      ]
    },
    {
      "cell_type": "code",
      "metadata": {
        "id": "yo2PjEEs44Rh"
      },
      "source": [
        "### step 4 : define function to convert fp32 to fp16\n",
        "\n",
        "def convert(src_path: str, map_location: str = \"cpu\", save_path: Union[str, None] = None) -> None:\n",
        "    \"\"\"Convert a pytorch_model.bin or model.pt file to torch.float16 for faster downloads, less disk space.\"\"\"\n",
        "    state_dict = torch.load(src_path, map_location=map_location)\n",
        "    for k, v in tqdm(state_dict.items()):\n",
        "        if not isinstance(v, torch.Tensor):\n",
        "            raise TypeError(\"FP16 conversion only works on paths that are saved state dics, like pytorch_model.bin\")\n",
        "        state_dict[k] = v.half()\n",
        "    if save_path is None:  # overwrite src_path\n",
        "        save_path = src_path\n",
        "    torch.save(state_dict, save_path)\n"
      ],
      "execution_count": null,
      "outputs": []
    },
    {
      "cell_type": "code",
      "metadata": {
        "id": "mQBscYaz5D0O",
        "colab": {
          "base_uri": "https://localhost:8080/",
          "height": 335
        },
        "outputId": "49646e26-bee9-477a-adf1-81550a7b8106"
      },
      "source": [
        "### step 5 : execute the function to convert to fp16 and please ignore the final error message and just check if the fp16 model is shown in the folder path\n",
        "\n",
        "fire.Fire(convert(src_path=checkpoints_dir,map_location='cpu',save_path=fp16_dir))"
      ],
      "execution_count": null,
      "outputs": [
        {
          "output_type": "stream",
          "text": [
            "100%|██████████| 222/222 [00:00<00:00, 532.24it/s]\n",
            "\u001b[1m\u001b[31mERROR: \u001b[0mCannot find key: -f\n",
            "Usage: ipykernel_launcher.py <group|command|value>\n",
            "  available groups:      In | Out | exit | quit | Union | os | fire | torch |\n",
            "                         files | drive\n",
            "  available commands:    get_ipython | tqdm | Path | convert\n",
            "  available values:      master_holder | checkpoints_dir | fp16_dir\n",
            "\n",
            "For detailed information on this command, run:\n",
            "  ipykernel_launcher.py --help\n"
          ],
          "name": "stderr"
        },
        {
          "output_type": "error",
          "ename": "FireExit",
          "evalue": "ignored",
          "traceback": [
            "An exception has occurred, use %tb to see the full traceback.\n",
            "\u001b[0;31mFireExit\u001b[0m\u001b[0;31m:\u001b[0m 2\n"
          ]
        },
        {
          "output_type": "stream",
          "text": [
            "/usr/local/lib/python3.7/dist-packages/IPython/core/interactiveshell.py:2890: UserWarning: To exit: use 'exit', 'quit', or Ctrl-D.\n",
            "  warn(\"To exit: use 'exit', 'quit', or Ctrl-D.\", stacklevel=1)\n"
          ],
          "name": "stderr"
        }
      ]
    }
  ]
}